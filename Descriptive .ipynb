{
 "cells": [
  {
   "cell_type": "code",
   "execution_count": 21,
   "id": "87b08470-0160-4cd3-a1a4-0e014cb944fd",
   "metadata": {},
   "outputs": [
    {
     "name": "stderr",
     "output_type": "stream",
     "text": [
      "Warning message:\n",
      "\"package 'ggplot2' was built under R version 4.1.2\"\n"
     ]
    }
   ],
   "source": [
    "library(gapminder)\n",
    "library(dplyr)\n",
    "library(ggplot2)"
   ]
  },
  {
   "cell_type": "code",
   "execution_count": 2,
   "id": "9020fe83-889c-4988-9532-b3ad50b9d0a6",
   "metadata": {},
   "outputs": [],
   "source": [
    "gapminder <- gapminder"
   ]
  },
  {
   "cell_type": "code",
   "execution_count": 3,
   "id": "576551f7-b729-4486-93de-ab7ea3d84f2b",
   "metadata": {},
   "outputs": [
    {
     "data": {
      "text/html": [
       "<table class=\"dataframe\">\n",
       "<caption>A tibble: 6 × 6</caption>\n",
       "<thead>\n",
       "\t<tr><th scope=col>country</th><th scope=col>continent</th><th scope=col>year</th><th scope=col>lifeExp</th><th scope=col>pop</th><th scope=col>gdpPercap</th></tr>\n",
       "\t<tr><th scope=col>&lt;fct&gt;</th><th scope=col>&lt;fct&gt;</th><th scope=col>&lt;int&gt;</th><th scope=col>&lt;dbl&gt;</th><th scope=col>&lt;int&gt;</th><th scope=col>&lt;dbl&gt;</th></tr>\n",
       "</thead>\n",
       "<tbody>\n",
       "\t<tr><td>Afghanistan</td><td>Asia</td><td>1952</td><td>28.801</td><td> 8425333</td><td>779.4453</td></tr>\n",
       "\t<tr><td>Afghanistan</td><td>Asia</td><td>1957</td><td>30.332</td><td> 9240934</td><td>820.8530</td></tr>\n",
       "\t<tr><td>Afghanistan</td><td>Asia</td><td>1962</td><td>31.997</td><td>10267083</td><td>853.1007</td></tr>\n",
       "\t<tr><td>Afghanistan</td><td>Asia</td><td>1967</td><td>34.020</td><td>11537966</td><td>836.1971</td></tr>\n",
       "\t<tr><td>Afghanistan</td><td>Asia</td><td>1972</td><td>36.088</td><td>13079460</td><td>739.9811</td></tr>\n",
       "\t<tr><td>Afghanistan</td><td>Asia</td><td>1977</td><td>38.438</td><td>14880372</td><td>786.1134</td></tr>\n",
       "</tbody>\n",
       "</table>\n"
      ],
      "text/latex": [
       "A tibble: 6 × 6\n",
       "\\begin{tabular}{llllll}\n",
       " country & continent & year & lifeExp & pop & gdpPercap\\\\\n",
       " <fct> & <fct> & <int> & <dbl> & <int> & <dbl>\\\\\n",
       "\\hline\n",
       "\t Afghanistan & Asia & 1952 & 28.801 &  8425333 & 779.4453\\\\\n",
       "\t Afghanistan & Asia & 1957 & 30.332 &  9240934 & 820.8530\\\\\n",
       "\t Afghanistan & Asia & 1962 & 31.997 & 10267083 & 853.1007\\\\\n",
       "\t Afghanistan & Asia & 1967 & 34.020 & 11537966 & 836.1971\\\\\n",
       "\t Afghanistan & Asia & 1972 & 36.088 & 13079460 & 739.9811\\\\\n",
       "\t Afghanistan & Asia & 1977 & 38.438 & 14880372 & 786.1134\\\\\n",
       "\\end{tabular}\n"
      ],
      "text/markdown": [
       "\n",
       "A tibble: 6 × 6\n",
       "\n",
       "| country &lt;fct&gt; | continent &lt;fct&gt; | year &lt;int&gt; | lifeExp &lt;dbl&gt; | pop &lt;int&gt; | gdpPercap &lt;dbl&gt; |\n",
       "|---|---|---|---|---|---|\n",
       "| Afghanistan | Asia | 1952 | 28.801 |  8425333 | 779.4453 |\n",
       "| Afghanistan | Asia | 1957 | 30.332 |  9240934 | 820.8530 |\n",
       "| Afghanistan | Asia | 1962 | 31.997 | 10267083 | 853.1007 |\n",
       "| Afghanistan | Asia | 1967 | 34.020 | 11537966 | 836.1971 |\n",
       "| Afghanistan | Asia | 1972 | 36.088 | 13079460 | 739.9811 |\n",
       "| Afghanistan | Asia | 1977 | 38.438 | 14880372 | 786.1134 |\n",
       "\n"
      ],
      "text/plain": [
       "  country     continent year lifeExp pop      gdpPercap\n",
       "1 Afghanistan Asia      1952 28.801   8425333 779.4453 \n",
       "2 Afghanistan Asia      1957 30.332   9240934 820.8530 \n",
       "3 Afghanistan Asia      1962 31.997  10267083 853.1007 \n",
       "4 Afghanistan Asia      1967 34.020  11537966 836.1971 \n",
       "5 Afghanistan Asia      1972 36.088  13079460 739.9811 \n",
       "6 Afghanistan Asia      1977 38.438  14880372 786.1134 "
      ]
     },
     "metadata": {},
     "output_type": "display_data"
    }
   ],
   "source": [
    "head(gapminder)"
   ]
  },
  {
   "cell_type": "code",
   "execution_count": 4,
   "id": "a757306f-55d3-4e60-a0d2-2240eecf73d3",
   "metadata": {},
   "outputs": [
    {
     "data": {
      "text/plain": [
       "        country        continent        year         lifeExp     \n",
       " Afghanistan:  12   Africa  :624   Min.   :1952   Min.   :23.60  \n",
       " Albania    :  12   Americas:300   1st Qu.:1966   1st Qu.:48.20  \n",
       " Algeria    :  12   Asia    :396   Median :1980   Median :60.71  \n",
       " Angola     :  12   Europe  :360   Mean   :1980   Mean   :59.47  \n",
       " Argentina  :  12   Oceania : 24   3rd Qu.:1993   3rd Qu.:70.85  \n",
       " Australia  :  12                  Max.   :2007   Max.   :82.60  \n",
       " (Other)    :1632                                                \n",
       "      pop              gdpPercap       \n",
       " Min.   :6.001e+04   Min.   :   241.2  \n",
       " 1st Qu.:2.794e+06   1st Qu.:  1202.1  \n",
       " Median :7.024e+06   Median :  3531.8  \n",
       " Mean   :2.960e+07   Mean   :  7215.3  \n",
       " 3rd Qu.:1.959e+07   3rd Qu.:  9325.5  \n",
       " Max.   :1.319e+09   Max.   :113523.1  \n",
       "                                       "
      ]
     },
     "metadata": {},
     "output_type": "display_data"
    }
   ],
   "source": [
    "summary(gapminder)"
   ]
  },
  {
   "cell_type": "markdown",
   "id": "65d7fba4-c626-47d7-b9fb-cf41f7fc8f39",
   "metadata": {},
   "source": [
    "##  Descriptive Statistics"
   ]
  },
  {
   "cell_type": "markdown",
   "id": "76c7f3ba-01b6-4b40-8e26-4e0b55f10d32",
   "metadata": {},
   "source": [
    "#### 1. Measures of Central Tendancy (Mean, Median and Mode)"
   ]
  },
  {
   "cell_type": "code",
   "execution_count": 5,
   "id": "115f4b68-be59-4fe6-afb5-d19e411ffc2e",
   "metadata": {},
   "outputs": [
    {
     "data": {
      "text/html": [
       "<table class=\"dataframe\">\n",
       "<caption>A tibble: 1 × 1</caption>\n",
       "<thead>\n",
       "\t<tr><th scope=col>mean_population</th></tr>\n",
       "\t<tr><th scope=col>&lt;dbl&gt;</th></tr>\n",
       "</thead>\n",
       "<tbody>\n",
       "\t<tr><td>45.99633</td></tr>\n",
       "</tbody>\n",
       "</table>\n"
      ],
      "text/latex": [
       "A tibble: 1 × 1\n",
       "\\begin{tabular}{l}\n",
       " mean\\_population\\\\\n",
       " <dbl>\\\\\n",
       "\\hline\n",
       "\t 45.99633\\\\\n",
       "\\end{tabular}\n"
      ],
      "text/markdown": [
       "\n",
       "A tibble: 1 × 1\n",
       "\n",
       "| mean_population &lt;dbl&gt; |\n",
       "|---|\n",
       "| 45.99633 |\n",
       "\n"
      ],
      "text/plain": [
       "  mean_population\n",
       "1 45.99633       "
      ]
     },
     "metadata": {},
     "output_type": "display_data"
    }
   ],
   "source": [
    "gapminder %>%  filter(country == 'Zambia') %>% \n",
    "summarize(mean_population = mean(lifeExp))"
   ]
  },
  {
   "cell_type": "code",
   "execution_count": 6,
   "id": "bfd81107-6ffb-4cb6-b275-4ea6442d71e0",
   "metadata": {},
   "outputs": [
    {
     "data": {
      "text/html": [
       "<table class=\"dataframe\">\n",
       "<caption>A tibble: 1 × 1</caption>\n",
       "<thead>\n",
       "\t<tr><th scope=col>median_lifeExp</th></tr>\n",
       "\t<tr><th scope=col>&lt;dbl&gt;</th></tr>\n",
       "</thead>\n",
       "<tbody>\n",
       "\t<tr><td>46.0615</td></tr>\n",
       "</tbody>\n",
       "</table>\n"
      ],
      "text/latex": [
       "A tibble: 1 × 1\n",
       "\\begin{tabular}{l}\n",
       " median\\_lifeExp\\\\\n",
       " <dbl>\\\\\n",
       "\\hline\n",
       "\t 46.0615\\\\\n",
       "\\end{tabular}\n"
      ],
      "text/markdown": [
       "\n",
       "A tibble: 1 × 1\n",
       "\n",
       "| median_lifeExp &lt;dbl&gt; |\n",
       "|---|\n",
       "| 46.0615 |\n",
       "\n"
      ],
      "text/plain": [
       "  median_lifeExp\n",
       "1 46.0615       "
      ]
     },
     "metadata": {},
     "output_type": "display_data"
    }
   ],
   "source": [
    "gapminder %>% filter(country == 'Zambia') %>% \n",
    "summarize(median_lifeExp = median(lifeExp))"
   ]
  },
  {
   "cell_type": "code",
   "execution_count": 7,
   "id": "831bcd52-4ac4-4afe-8275-efe0e4be14bb",
   "metadata": {},
   "outputs": [
    {
     "data": {
      "text/html": [
       "<table class=\"dataframe\">\n",
       "<caption>A tibble: 142 × 2</caption>\n",
       "<thead>\n",
       "\t<tr><th scope=col>country</th><th scope=col>mode(gdpPercap)</th></tr>\n",
       "\t<tr><th scope=col>&lt;fct&gt;</th><th scope=col>&lt;dbl&gt;</th></tr>\n",
       "</thead>\n",
       "<tbody>\n",
       "\t<tr><td>Afghanistan             </td><td>  974.5803</td></tr>\n",
       "\t<tr><td>Albania                 </td><td> 5937.0295</td></tr>\n",
       "\t<tr><td>Algeria                 </td><td> 6223.3675</td></tr>\n",
       "\t<tr><td>Angola                  </td><td> 4797.2313</td></tr>\n",
       "\t<tr><td>Argentina               </td><td>12779.3796</td></tr>\n",
       "\t<tr><td>Australia               </td><td>34435.3674</td></tr>\n",
       "\t<tr><td>Austria                 </td><td>36126.4927</td></tr>\n",
       "\t<tr><td>Bahrain                 </td><td>29796.0483</td></tr>\n",
       "\t<tr><td>Bangladesh              </td><td> 1391.2538</td></tr>\n",
       "\t<tr><td>Belgium                 </td><td>33692.6051</td></tr>\n",
       "\t<tr><td>Benin                   </td><td> 1441.2849</td></tr>\n",
       "\t<tr><td>Bolivia                 </td><td> 3822.1371</td></tr>\n",
       "\t<tr><td>Bosnia and Herzegovina  </td><td> 7446.2988</td></tr>\n",
       "\t<tr><td>Botswana                </td><td>12569.8518</td></tr>\n",
       "\t<tr><td>Brazil                  </td><td> 9065.8008</td></tr>\n",
       "\t<tr><td>Bulgaria                </td><td>10680.7928</td></tr>\n",
       "\t<tr><td>Burkina Faso            </td><td> 1217.0330</td></tr>\n",
       "\t<tr><td>Burundi                 </td><td>  430.0707</td></tr>\n",
       "\t<tr><td>Cambodia                </td><td> 1713.7787</td></tr>\n",
       "\t<tr><td>Cameroon                </td><td> 2042.0952</td></tr>\n",
       "\t<tr><td>Canada                  </td><td>36319.2350</td></tr>\n",
       "\t<tr><td>Central African Republic</td><td>  706.0165</td></tr>\n",
       "\t<tr><td>Chad                    </td><td> 1704.0637</td></tr>\n",
       "\t<tr><td>Chile                   </td><td>13171.6388</td></tr>\n",
       "\t<tr><td>China                   </td><td> 4959.1149</td></tr>\n",
       "\t<tr><td>Colombia                </td><td> 7006.5804</td></tr>\n",
       "\t<tr><td>Comoros                 </td><td>  986.1479</td></tr>\n",
       "\t<tr><td>Congo, Dem. Rep.        </td><td>  277.5519</td></tr>\n",
       "\t<tr><td>Congo, Rep.             </td><td> 3632.5578</td></tr>\n",
       "\t<tr><td>Costa Rica              </td><td> 9645.0614</td></tr>\n",
       "\t<tr><td>...</td><td>...</td></tr>\n",
       "\t<tr><td>Sierra Leone       </td><td>  862.5408</td></tr>\n",
       "\t<tr><td>Singapore          </td><td>47143.1796</td></tr>\n",
       "\t<tr><td>Slovak Republic    </td><td>18678.3144</td></tr>\n",
       "\t<tr><td>Slovenia           </td><td>25768.2576</td></tr>\n",
       "\t<tr><td>Somalia            </td><td>  926.1411</td></tr>\n",
       "\t<tr><td>South Africa       </td><td> 9269.6578</td></tr>\n",
       "\t<tr><td>Spain              </td><td>28821.0637</td></tr>\n",
       "\t<tr><td>Sri Lanka          </td><td> 3970.0954</td></tr>\n",
       "\t<tr><td>Sudan              </td><td> 2602.3950</td></tr>\n",
       "\t<tr><td>Swaziland          </td><td> 4513.4806</td></tr>\n",
       "\t<tr><td>Sweden             </td><td>33859.7484</td></tr>\n",
       "\t<tr><td>Switzerland        </td><td>37506.4191</td></tr>\n",
       "\t<tr><td>Syria              </td><td> 4184.5481</td></tr>\n",
       "\t<tr><td>Taiwan             </td><td>28718.2768</td></tr>\n",
       "\t<tr><td>Tanzania           </td><td> 1107.4822</td></tr>\n",
       "\t<tr><td>Thailand           </td><td> 7458.3963</td></tr>\n",
       "\t<tr><td>Togo               </td><td>  882.9699</td></tr>\n",
       "\t<tr><td>Trinidad and Tobago</td><td>18008.5092</td></tr>\n",
       "\t<tr><td>Tunisia            </td><td> 7092.9230</td></tr>\n",
       "\t<tr><td>Turkey             </td><td> 8458.2764</td></tr>\n",
       "\t<tr><td>Uganda             </td><td> 1056.3801</td></tr>\n",
       "\t<tr><td>United Kingdom     </td><td>33203.2613</td></tr>\n",
       "\t<tr><td>United States      </td><td>42951.6531</td></tr>\n",
       "\t<tr><td>Uruguay            </td><td>10611.4630</td></tr>\n",
       "\t<tr><td>Venezuela          </td><td>11415.8057</td></tr>\n",
       "\t<tr><td>Vietnam            </td><td> 2441.5764</td></tr>\n",
       "\t<tr><td>West Bank and Gaza </td><td> 3025.3498</td></tr>\n",
       "\t<tr><td>Yemen, Rep.        </td><td> 2280.7699</td></tr>\n",
       "\t<tr><td>Zambia             </td><td> 1271.2116</td></tr>\n",
       "\t<tr><td>Zimbabwe           </td><td>  469.7093</td></tr>\n",
       "</tbody>\n",
       "</table>\n"
      ],
      "text/latex": [
       "A tibble: 142 × 2\n",
       "\\begin{tabular}{ll}\n",
       " country & mode(gdpPercap)\\\\\n",
       " <fct> & <dbl>\\\\\n",
       "\\hline\n",
       "\t Afghanistan              &   974.5803\\\\\n",
       "\t Albania                  &  5937.0295\\\\\n",
       "\t Algeria                  &  6223.3675\\\\\n",
       "\t Angola                   &  4797.2313\\\\\n",
       "\t Argentina                & 12779.3796\\\\\n",
       "\t Australia                & 34435.3674\\\\\n",
       "\t Austria                  & 36126.4927\\\\\n",
       "\t Bahrain                  & 29796.0483\\\\\n",
       "\t Bangladesh               &  1391.2538\\\\\n",
       "\t Belgium                  & 33692.6051\\\\\n",
       "\t Benin                    &  1441.2849\\\\\n",
       "\t Bolivia                  &  3822.1371\\\\\n",
       "\t Bosnia and Herzegovina   &  7446.2988\\\\\n",
       "\t Botswana                 & 12569.8518\\\\\n",
       "\t Brazil                   &  9065.8008\\\\\n",
       "\t Bulgaria                 & 10680.7928\\\\\n",
       "\t Burkina Faso             &  1217.0330\\\\\n",
       "\t Burundi                  &   430.0707\\\\\n",
       "\t Cambodia                 &  1713.7787\\\\\n",
       "\t Cameroon                 &  2042.0952\\\\\n",
       "\t Canada                   & 36319.2350\\\\\n",
       "\t Central African Republic &   706.0165\\\\\n",
       "\t Chad                     &  1704.0637\\\\\n",
       "\t Chile                    & 13171.6388\\\\\n",
       "\t China                    &  4959.1149\\\\\n",
       "\t Colombia                 &  7006.5804\\\\\n",
       "\t Comoros                  &   986.1479\\\\\n",
       "\t Congo, Dem. Rep.         &   277.5519\\\\\n",
       "\t Congo, Rep.              &  3632.5578\\\\\n",
       "\t Costa Rica               &  9645.0614\\\\\n",
       "\t ... & ...\\\\\n",
       "\t Sierra Leone        &   862.5408\\\\\n",
       "\t Singapore           & 47143.1796\\\\\n",
       "\t Slovak Republic     & 18678.3144\\\\\n",
       "\t Slovenia            & 25768.2576\\\\\n",
       "\t Somalia             &   926.1411\\\\\n",
       "\t South Africa        &  9269.6578\\\\\n",
       "\t Spain               & 28821.0637\\\\\n",
       "\t Sri Lanka           &  3970.0954\\\\\n",
       "\t Sudan               &  2602.3950\\\\\n",
       "\t Swaziland           &  4513.4806\\\\\n",
       "\t Sweden              & 33859.7484\\\\\n",
       "\t Switzerland         & 37506.4191\\\\\n",
       "\t Syria               &  4184.5481\\\\\n",
       "\t Taiwan              & 28718.2768\\\\\n",
       "\t Tanzania            &  1107.4822\\\\\n",
       "\t Thailand            &  7458.3963\\\\\n",
       "\t Togo                &   882.9699\\\\\n",
       "\t Trinidad and Tobago & 18008.5092\\\\\n",
       "\t Tunisia             &  7092.9230\\\\\n",
       "\t Turkey              &  8458.2764\\\\\n",
       "\t Uganda              &  1056.3801\\\\\n",
       "\t United Kingdom      & 33203.2613\\\\\n",
       "\t United States       & 42951.6531\\\\\n",
       "\t Uruguay             & 10611.4630\\\\\n",
       "\t Venezuela           & 11415.8057\\\\\n",
       "\t Vietnam             &  2441.5764\\\\\n",
       "\t West Bank and Gaza  &  3025.3498\\\\\n",
       "\t Yemen, Rep.         &  2280.7699\\\\\n",
       "\t Zambia              &  1271.2116\\\\\n",
       "\t Zimbabwe            &   469.7093\\\\\n",
       "\\end{tabular}\n"
      ],
      "text/markdown": [
       "\n",
       "A tibble: 142 × 2\n",
       "\n",
       "| country &lt;fct&gt; | mode(gdpPercap) &lt;dbl&gt; |\n",
       "|---|---|\n",
       "| Afghanistan              |   974.5803 |\n",
       "| Albania                  |  5937.0295 |\n",
       "| Algeria                  |  6223.3675 |\n",
       "| Angola                   |  4797.2313 |\n",
       "| Argentina                | 12779.3796 |\n",
       "| Australia                | 34435.3674 |\n",
       "| Austria                  | 36126.4927 |\n",
       "| Bahrain                  | 29796.0483 |\n",
       "| Bangladesh               |  1391.2538 |\n",
       "| Belgium                  | 33692.6051 |\n",
       "| Benin                    |  1441.2849 |\n",
       "| Bolivia                  |  3822.1371 |\n",
       "| Bosnia and Herzegovina   |  7446.2988 |\n",
       "| Botswana                 | 12569.8518 |\n",
       "| Brazil                   |  9065.8008 |\n",
       "| Bulgaria                 | 10680.7928 |\n",
       "| Burkina Faso             |  1217.0330 |\n",
       "| Burundi                  |   430.0707 |\n",
       "| Cambodia                 |  1713.7787 |\n",
       "| Cameroon                 |  2042.0952 |\n",
       "| Canada                   | 36319.2350 |\n",
       "| Central African Republic |   706.0165 |\n",
       "| Chad                     |  1704.0637 |\n",
       "| Chile                    | 13171.6388 |\n",
       "| China                    |  4959.1149 |\n",
       "| Colombia                 |  7006.5804 |\n",
       "| Comoros                  |   986.1479 |\n",
       "| Congo, Dem. Rep.         |   277.5519 |\n",
       "| Congo, Rep.              |  3632.5578 |\n",
       "| Costa Rica               |  9645.0614 |\n",
       "| ... | ... |\n",
       "| Sierra Leone        |   862.5408 |\n",
       "| Singapore           | 47143.1796 |\n",
       "| Slovak Republic     | 18678.3144 |\n",
       "| Slovenia            | 25768.2576 |\n",
       "| Somalia             |   926.1411 |\n",
       "| South Africa        |  9269.6578 |\n",
       "| Spain               | 28821.0637 |\n",
       "| Sri Lanka           |  3970.0954 |\n",
       "| Sudan               |  2602.3950 |\n",
       "| Swaziland           |  4513.4806 |\n",
       "| Sweden              | 33859.7484 |\n",
       "| Switzerland         | 37506.4191 |\n",
       "| Syria               |  4184.5481 |\n",
       "| Taiwan              | 28718.2768 |\n",
       "| Tanzania            |  1107.4822 |\n",
       "| Thailand            |  7458.3963 |\n",
       "| Togo                |   882.9699 |\n",
       "| Trinidad and Tobago | 18008.5092 |\n",
       "| Tunisia             |  7092.9230 |\n",
       "| Turkey              |  8458.2764 |\n",
       "| Uganda              |  1056.3801 |\n",
       "| United Kingdom      | 33203.2613 |\n",
       "| United States       | 42951.6531 |\n",
       "| Uruguay             | 10611.4630 |\n",
       "| Venezuela           | 11415.8057 |\n",
       "| Vietnam             |  2441.5764 |\n",
       "| West Bank and Gaza  |  3025.3498 |\n",
       "| Yemen, Rep.         |  2280.7699 |\n",
       "| Zambia              |  1271.2116 |\n",
       "| Zimbabwe            |   469.7093 |\n",
       "\n"
      ],
      "text/plain": [
       "    country                  mode(gdpPercap)\n",
       "1   Afghanistan                974.5803     \n",
       "2   Albania                   5937.0295     \n",
       "3   Algeria                   6223.3675     \n",
       "4   Angola                    4797.2313     \n",
       "5   Argentina                12779.3796     \n",
       "6   Australia                34435.3674     \n",
       "7   Austria                  36126.4927     \n",
       "8   Bahrain                  29796.0483     \n",
       "9   Bangladesh                1391.2538     \n",
       "10  Belgium                  33692.6051     \n",
       "11  Benin                     1441.2849     \n",
       "12  Bolivia                   3822.1371     \n",
       "13  Bosnia and Herzegovina    7446.2988     \n",
       "14  Botswana                 12569.8518     \n",
       "15  Brazil                    9065.8008     \n",
       "16  Bulgaria                 10680.7928     \n",
       "17  Burkina Faso              1217.0330     \n",
       "18  Burundi                    430.0707     \n",
       "19  Cambodia                  1713.7787     \n",
       "20  Cameroon                  2042.0952     \n",
       "21  Canada                   36319.2350     \n",
       "22  Central African Republic   706.0165     \n",
       "23  Chad                      1704.0637     \n",
       "24  Chile                    13171.6388     \n",
       "25  China                     4959.1149     \n",
       "26  Colombia                  7006.5804     \n",
       "27  Comoros                    986.1479     \n",
       "28  Congo, Dem. Rep.           277.5519     \n",
       "29  Congo, Rep.               3632.5578     \n",
       "30  Costa Rica                9645.0614     \n",
       "... ...                      ...            \n",
       "113 Sierra Leone               862.5408     \n",
       "114 Singapore                47143.1796     \n",
       "115 Slovak Republic          18678.3144     \n",
       "116 Slovenia                 25768.2576     \n",
       "117 Somalia                    926.1411     \n",
       "118 South Africa              9269.6578     \n",
       "119 Spain                    28821.0637     \n",
       "120 Sri Lanka                 3970.0954     \n",
       "121 Sudan                     2602.3950     \n",
       "122 Swaziland                 4513.4806     \n",
       "123 Sweden                   33859.7484     \n",
       "124 Switzerland              37506.4191     \n",
       "125 Syria                     4184.5481     \n",
       "126 Taiwan                   28718.2768     \n",
       "127 Tanzania                  1107.4822     \n",
       "128 Thailand                  7458.3963     \n",
       "129 Togo                       882.9699     \n",
       "130 Trinidad and Tobago      18008.5092     \n",
       "131 Tunisia                   7092.9230     \n",
       "132 Turkey                    8458.2764     \n",
       "133 Uganda                    1056.3801     \n",
       "134 United Kingdom           33203.2613     \n",
       "135 United States            42951.6531     \n",
       "136 Uruguay                  10611.4630     \n",
       "137 Venezuela                11415.8057     \n",
       "138 Vietnam                   2441.5764     \n",
       "139 West Bank and Gaza        3025.3498     \n",
       "140 Yemen, Rep.               2280.7699     \n",
       "141 Zambia                    1271.2116     \n",
       "142 Zimbabwe                   469.7093     "
      ]
     },
     "metadata": {},
     "output_type": "display_data"
    }
   ],
   "source": [
    "mode <- function(x) {\n",
    "  u <- unique(x)\n",
    "  tab <- tabulate(match(x, u))\n",
    "  u[tab == max(tab)]\n",
    "}\n",
    "\n",
    "gapminder%>% filter(year == 2007) %>% group_by(country) %>% summarize(mode(gdpPercap))\n"
   ]
  },
  {
   "cell_type": "markdown",
   "id": "24eba555-0330-478f-b187-ff0837301b73",
   "metadata": {},
   "source": [
    "## Measures of Dispersion or Variation (Variance, Standard Deviation and Range)"
   ]
  },
  {
   "cell_type": "code",
   "execution_count": 16,
   "id": "ee5639fa-716d-4b39-904f-e15a47656906",
   "metadata": {},
   "outputs": [
    {
     "data": {
      "text/html": [
       "<table class=\"dataframe\">\n",
       "<caption>A tibble: 5 × 2</caption>\n",
       "<thead>\n",
       "\t<tr><th scope=col>continent</th><th scope=col>range</th></tr>\n",
       "\t<tr><th scope=col>&lt;fct&gt;</th><th scope=col>&lt;int&gt;</th></tr>\n",
       "</thead>\n",
       "<tbody>\n",
       "\t<tr><td>Africa  </td><td> 134971153</td></tr>\n",
       "\t<tr><td>Americas</td><td> 300477097</td></tr>\n",
       "\t<tr><td>Asia    </td><td>1318562649</td></tr>\n",
       "\t<tr><td>Europe  </td><td>  82253034</td></tr>\n",
       "\t<tr><td>Oceania </td><td>  18439382</td></tr>\n",
       "</tbody>\n",
       "</table>\n"
      ],
      "text/latex": [
       "A tibble: 5 × 2\n",
       "\\begin{tabular}{ll}\n",
       " continent & range\\\\\n",
       " <fct> & <int>\\\\\n",
       "\\hline\n",
       "\t Africa   &  134971153\\\\\n",
       "\t Americas &  300477097\\\\\n",
       "\t Asia     & 1318562649\\\\\n",
       "\t Europe   &   82253034\\\\\n",
       "\t Oceania  &   18439382\\\\\n",
       "\\end{tabular}\n"
      ],
      "text/markdown": [
       "\n",
       "A tibble: 5 × 2\n",
       "\n",
       "| continent &lt;fct&gt; | range &lt;int&gt; |\n",
       "|---|---|\n",
       "| Africa   |  134971153 |\n",
       "| Americas |  300477097 |\n",
       "| Asia     | 1318562649 |\n",
       "| Europe   |   82253034 |\n",
       "| Oceania  |   18439382 |\n",
       "\n"
      ],
      "text/plain": [
       "  continent range     \n",
       "1 Africa     134971153\n",
       "2 Americas   300477097\n",
       "3 Asia      1318562649\n",
       "4 Europe      82253034\n",
       "5 Oceania     18439382"
      ]
     },
     "metadata": {},
     "output_type": "display_data"
    }
   ],
   "source": [
    "gapminder %>% group_by(continent) %>% summarize(range = (max(pop) - min(pop)))"
   ]
  },
  {
   "cell_type": "code",
   "execution_count": 9,
   "id": "def8ca7f-1f7a-471e-b892-b6c762ae0e2a",
   "metadata": {},
   "outputs": [
    {
     "data": {
      "text/html": [
       "<table class=\"dataframe\">\n",
       "<caption>A tibble: 1 × 2</caption>\n",
       "<thead>\n",
       "\t<tr><th scope=col>country</th><th scope=col>var(gdpPercap)</th></tr>\n",
       "\t<tr><th scope=col>&lt;fct&gt;</th><th scope=col>&lt;dbl&gt;</th></tr>\n",
       "</thead>\n",
       "<tbody>\n",
       "\t<tr><td>Zambia</td><td>61253.77</td></tr>\n",
       "</tbody>\n",
       "</table>\n"
      ],
      "text/latex": [
       "A tibble: 1 × 2\n",
       "\\begin{tabular}{ll}\n",
       " country & var(gdpPercap)\\\\\n",
       " <fct> & <dbl>\\\\\n",
       "\\hline\n",
       "\t Zambia & 61253.77\\\\\n",
       "\\end{tabular}\n"
      ],
      "text/markdown": [
       "\n",
       "A tibble: 1 × 2\n",
       "\n",
       "| country &lt;fct&gt; | var(gdpPercap) &lt;dbl&gt; |\n",
       "|---|---|\n",
       "| Zambia | 61253.77 |\n",
       "\n"
      ],
      "text/plain": [
       "  country var(gdpPercap)\n",
       "1 Zambia  61253.77      "
      ]
     },
     "metadata": {},
     "output_type": "display_data"
    }
   ],
   "source": [
    "gapminder%>% filter(country == 'Zambia') %>% group_by(country) %>% summarize(var(gdpPercap))"
   ]
  },
  {
   "cell_type": "code",
   "execution_count": 10,
   "id": "47d04fba-e582-4fe0-aace-646527de7598",
   "metadata": {},
   "outputs": [
    {
     "data": {
      "text/html": [
       "<table class=\"dataframe\">\n",
       "<caption>A tibble: 1 × 2</caption>\n",
       "<thead>\n",
       "\t<tr><th scope=col>country</th><th scope=col>sd(gdpPercap)</th></tr>\n",
       "\t<tr><th scope=col>&lt;fct&gt;</th><th scope=col>&lt;dbl&gt;</th></tr>\n",
       "</thead>\n",
       "<tbody>\n",
       "\t<tr><td>Zambia</td><td>247.495</td></tr>\n",
       "</tbody>\n",
       "</table>\n"
      ],
      "text/latex": [
       "A tibble: 1 × 2\n",
       "\\begin{tabular}{ll}\n",
       " country & sd(gdpPercap)\\\\\n",
       " <fct> & <dbl>\\\\\n",
       "\\hline\n",
       "\t Zambia & 247.495\\\\\n",
       "\\end{tabular}\n"
      ],
      "text/markdown": [
       "\n",
       "A tibble: 1 × 2\n",
       "\n",
       "| country &lt;fct&gt; | sd(gdpPercap) &lt;dbl&gt; |\n",
       "|---|---|\n",
       "| Zambia | 247.495 |\n",
       "\n"
      ],
      "text/plain": [
       "  country sd(gdpPercap)\n",
       "1 Zambia  247.495      "
      ]
     },
     "metadata": {},
     "output_type": "display_data"
    }
   ],
   "source": [
    "gapminder%>% filter(country == 'Zambia') %>% group_by(country) %>% summarize(sd(gdpPercap))"
   ]
  },
  {
   "cell_type": "markdown",
   "id": "d192534f-6de9-48f6-a276-b9fb830bfcbe",
   "metadata": {},
   "source": [
    "## Measures of Position"
   ]
  },
  {
   "cell_type": "code",
   "execution_count": 18,
   "id": "4d70b6c1-6279-457d-9063-163c0151f63d",
   "metadata": {},
   "outputs": [
    {
     "data": {
      "text/html": [
       "<strong>25%:</strong> 2793664"
      ],
      "text/latex": [
       "\\textbf{25\\textbackslash{}\\%:} 2793664"
      ],
      "text/markdown": [
       "**25%:** 2793664"
      ],
      "text/plain": [
       "    25% \n",
       "2793664 "
      ]
     },
     "metadata": {},
     "output_type": "display_data"
    }
   ],
   "source": [
    "quantile(gapminder$pop, 0.25)"
   ]
  },
  {
   "cell_type": "code",
   "execution_count": 19,
   "id": "36c099b1-1569-414d-aa84-7d65d338053f",
   "metadata": {},
   "outputs": [
    {
     "data": {
      "text/html": [
       "<strong>75%:</strong> 19585221.75"
      ],
      "text/latex": [
       "\\textbf{75\\textbackslash{}\\%:} 19585221.75"
      ],
      "text/markdown": [
       "**75%:** 19585221.75"
      ],
      "text/plain": [
       "     75% \n",
       "19585222 "
      ]
     },
     "metadata": {},
     "output_type": "display_data"
    }
   ],
   "source": [
    "quantile(gapminder$pop, 0.75)"
   ]
  },
  {
   "cell_type": "code",
   "execution_count": 20,
   "id": "956c69ef-9194-46f8-83b3-a4777cf9cb8f",
   "metadata": {},
   "outputs": [
    {
     "data": {
      "text/html": [
       "16791557.75"
      ],
      "text/latex": [
       "16791557.75"
      ],
      "text/markdown": [
       "16791557.75"
      ],
      "text/plain": [
       "[1] 16791558"
      ]
     },
     "metadata": {},
     "output_type": "display_data"
    }
   ],
   "source": [
    "IQR(gapminder$pop)"
   ]
  },
  {
   "cell_type": "code",
   "execution_count": 28,
   "id": "f9a3c436-7843-4362-b5e2-b27110e712c8",
   "metadata": {},
   "outputs": [],
   "source": [
    "zambia = gapminder %>% filter(country == 'Zambia')"
   ]
  },
  {
   "cell_type": "code",
   "execution_count": 31,
   "id": "1ca7ca6d-8e1c-4c93-b0e8-4aa3860d481b",
   "metadata": {},
   "outputs": [
    {
     "data": {
      "image/png": "[encoded data removed]",
      "text/plain": [
       "plot without title"
      ]
     },
     "metadata": {
      "image/png": {
       "height": 420,
       "width": 420
      }
     },
     "output_type": "display_data"
    }
   ],
   "source": [
    "crop=ggplot(data=zambia, mapping=aes(y=pop))+geom_boxplot()\n",
    "crop"
   ]
  },
  {
   "cell_type": "code",
   "execution_count": null,
   "id": "798a2da1-a779-4ae8-acee-bec6797f62da",
   "metadata": {},
   "outputs": [],
   "source": []
  }
 ],
 "metadata": {
  "kernelspec": {
   "display_name": "R",
   "language": "R",
   "name": "ir"
  },
  "language_info": {
   "codemirror_mode": "r",
   "file_extension": ".r",
   "mimetype": "text/x-r-source",
   "name": "R",
   "pygments_lexer": "r",
   "version": "4.1.1"
  }
 },
 "nbformat": 4,
 "nbformat_minor": 5
}
